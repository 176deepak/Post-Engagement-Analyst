{
  "cells": [
    {
      "cell_type": "code",
      "execution_count": null,
      "metadata": {
        "colab": {
          "base_uri": "https://localhost:8080/"
        },
        "id": "76dwZwGxncKz",
        "outputId": "0d6985f0-aa82-4f39-8244-8bff8ddaab31"
      },
      "outputs": [],
      "source": [
        "# @title Connect with drive\n",
        "from google.colab import drive\n",
        "drive.mount('/content/drive')"
      ]
    },
    {
      "cell_type": "code",
      "execution_count": null,
      "metadata": {
        "id": "PDq3qBwwmvFu"
      },
      "outputs": [],
      "source": [
        "# @title Set the environment variables\n",
        "import os\n",
        "from google.colab import userdata\n",
        "\n",
        "os.environ['ASTRA'] = userdata.get('ASTRA_DB')\n",
        "os.environ['ASTRA_URI'] = userdata.get('ASTRA_URI')"
      ]
    },
    {
      "cell_type": "code",
      "execution_count": null,
      "metadata": {
        "colab": {
          "base_uri": "https://localhost:8080/"
        },
        "id": "z0JmmvcvoMAw",
        "outputId": "15fbda80-d66a-471a-8302-b6337b76b50a"
      },
      "outputs": [],
      "source": [
        "# Install dependencies\n",
        "!pip install -qU astrapy"
      ]
    },
    {
      "cell_type": "code",
      "execution_count": null,
      "metadata": {
        "colab": {
          "base_uri": "https://localhost:8080/",
          "height": 397
        },
        "id": "fH6wBJL9n1UL",
        "outputId": "7b710b35-1363-427e-d704-783dc7edaab2"
      },
      "outputs": [],
      "source": [
        "# Load the dependencies\n",
        "import shutil\n",
        "import pandas as pd\n",
        "from astrapy import DataAPIClient"
      ]
    },
    {
      "cell_type": "code",
      "execution_count": null,
      "metadata": {
        "id": "cy67-SmjpRgu"
      },
      "outputs": [],
      "source": [
        "# @title Connect with ASTRA DB\n",
        "\n",
        "client = DataAPIClient(os.environ['ASTRA'])\n",
        "database = client.get_database(os.environ['ASTRA_URI'], keyspace=\"SuperMind\")\n",
        "collection = database.posts"
      ]
    },
    {
      "cell_type": "code",
      "execution_count": null,
      "metadata": {
        "colab": {
          "base_uri": "https://localhost:8080/",
          "height": 206
        },
        "id": "TaFFwdP8qd5w",
        "outputId": "83e7a1b8-3b94-4d6c-8d7d-e335399195ba"
      },
      "outputs": [],
      "source": [
        "# Read the dataframe/data\n",
        "df = pd.read_csv('/content/drive/MyDrive/Level Smart Mind/instagram.csv')\n",
        "df['likes'] = pd.to_numeric(df['likes'], errors='coerce')\n",
        "df['comments'] = pd.to_numeric(df['comments'], errors='coerce')\n",
        "df['shares'] = pd.to_numeric(df['shares'], errors='coerce')\n",
        "df['followers'] = pd.to_numeric(df['followers'], errors='coerce')\n",
        "df['following'] = pd.to_numeric(df['following'], errors='coerce')\n",
        "df = df.fillna('none')\n",
        "df.sample(5)"
      ]
    },
    {
      "cell_type": "code",
      "execution_count": null,
      "metadata": {
        "colab": {
          "base_uri": "https://localhost:8080/"
        },
        "id": "7VUcWHrNrE-7",
        "outputId": "7069ca90-d5b3-4abd-d6c0-da9b0aaca827"
      },
      "outputs": [],
      "source": [
        "# Convert to records\n",
        "records = df.to_dict('records')\n",
        "records[0]"
      ]
    },
    {
      "cell_type": "code",
      "execution_count": null,
      "metadata": {
        "colab": {
          "base_uri": "https://localhost:8080/"
        },
        "id": "7IxKYvsQw1-o",
        "outputId": "0ab742be-1e2b-4d09-d78a-cb95750e55c1"
      },
      "outputs": [],
      "source": [
        "len(records)"
      ]
    },
    {
      "cell_type": "code",
      "execution_count": null,
      "metadata": {
        "colab": {
          "base_uri": "https://localhost:8080/",
          "height": 471
        },
        "id": "NtwKquzBrUKA",
        "outputId": "0384f63d-5c4b-4f5c-b100-0b25228966bc"
      },
      "outputs": [],
      "source": [
        "# @title Push the data to ASTRA DB collection\n",
        "collection.insert_many(records)"
      ]
    },
    {
      "cell_type": "code",
      "execution_count": null,
      "metadata": {
        "id": "s63zwALqOzwJ"
      },
      "outputs": [],
      "source": []
    }
  ],
  "metadata": {
    "colab": {
      "provenance": []
    },
    "kernelspec": {
      "display_name": "Python 3",
      "name": "python3"
    },
    "language_info": {
      "name": "python"
    }
  },
  "nbformat": 4,
  "nbformat_minor": 0
}
